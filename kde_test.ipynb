{
 "cells": [
  {
   "cell_type": "code",
   "execution_count": 6,
   "metadata": {
    "collapsed": true
   },
   "outputs": [],
   "source": [
    "from scipy import stats\n",
    "import numpy as np\n",
    "import math\n",
    "from matplotlib import pyplot as plt"
   ]
  },
  {
   "cell_type": "code",
   "execution_count": 5,
   "metadata": {
    "collapsed": true
   },
   "outputs": [],
   "source": [
    "def measure(n):\n",
    "    \"Measurement model, return two coupled measurements.\"\n",
    "    m1 = np.random.normal(size=n)\n",
    "    m2 = np.random.normal(scale=0.5, size=n)\n",
    "    return m1+m2, m1-m2"
   ]
  },
  {
   "cell_type": "code",
   "execution_count": 27,
   "metadata": {},
   "outputs": [
    {
     "name": "stdout",
     "output_type": "stream",
     "text": [
      "(10000,)\n"
     ]
    }
   ],
   "source": [
    "m1, m2 = measure(10000)\n",
    "xmin = m1.min() - 14.0\n",
    "xmax = m1.max() + 14.0\n",
    "ymin = m2.min() - 14.0\n",
    "ymax = m2.max() + 14.0\n",
    "print(m1.shape)"
   ]
  },
  {
   "cell_type": "code",
   "execution_count": 29,
   "metadata": {},
   "outputs": [
    {
     "name": "stdout",
     "output_type": "stream",
     "text": [
      "(2, 10000)\n",
      "(2, 10000)\n",
      "0.98009051699\n"
     ]
    }
   ],
   "source": [
    "X, Y = np.mgrid[xmin:xmax:100j, ymin:ymax:100j]\n",
    "positions = np.vstack([X.ravel(), Y.ravel()])\n",
    "print(positions.shape)\n",
    "values = np.vstack([m1, m2])\n",
    "print(values.shape)\n",
    "kernel = stats.gaussian_kde(values)\n",
    "Z = np.reshape(kernel(positions).T, X.shape)\n",
    "print(np.sum(Z) / 100.0 * (xmax-xmin) / 100.0 * (ymax-ymin))"
   ]
  },
  {
   "cell_type": "code",
   "execution_count": 26,
   "metadata": {},
   "outputs": [
    {
     "data": {
      "image/png": "[encoded data removed]",
      "text/plain": [
       "<matplotlib.figure.Figure at 0x7f01d9859f60>"
      ]
     },
     "metadata": {},
     "output_type": "display_data"
    }
   ],
   "source": [
    "import matplotlib.pyplot as plt\n",
    "fig, ax = plt.subplots()\n",
    "ax.imshow(np.rot90(Z), cmap=plt.cm.gist_earth_r,\n",
    "           extent=[xmin, xmax, ymin, ymax])\n",
    "#ax.plot(m1, m2, 'k.', markersize=2)\n",
    "ax.set_xlim([xmin, xmax])\n",
    "ax.set_ylim([ymin, ymax])\n",
    "plt.show()"
   ]
  },
  {
   "cell_type": "code",
   "execution_count": 8,
   "metadata": {},
   "outputs": [
    {
     "data": {
      "image/png": "[encoded data removed]",
      "text/plain": [
       "<matplotlib.figure.Figure at 0x7fcdfb5ee780>"
      ]
     },
     "metadata": {},
     "output_type": "display_data"
    }
   ],
   "source": [
    "mis = []\n",
    "for rep in range(50):\n",
    "    mean = np.random.normal(scale=5.0, size=(500, 5))\n",
    "    stddev = np.ones(shape=(500, 5)) * 1.0\n",
    "\n",
    "    values = []\n",
    "    for k in range(2):\n",
    "        values.append(mean + stddev * np.random.normal(size=stddev.shape))\n",
    "    values = np.concatenate(values, axis=0)\n",
    "    # values = np.random.normal(scale=3.0, size=(1000, 2))\n",
    "    # Estimate Mutual Information\n",
    "    kernel = stats.gaussian_kde(values.transpose())\n",
    "    log_q_z_x = np.sum(-0.5 * np.log(2 * math.pi * math.e) - np.log(stddev), axis=1)\n",
    "\n",
    "    log_r_z = np.zeros(shape=(mean.shape[0],))\n",
    "    for k in range(10):\n",
    "        samples = mean + stddev * np.random.normal(size=stddev.shape) # np.random.normal(scale=math.sqrt(26.0), size=(500, 5))\n",
    "        log_r_z += kernel.logpdf(samples.transpose())\n",
    "    log_r_z /= 10.0\n",
    "    mi = np.mean(log_q_z_x - log_r_z)\n",
    "    mis.append(mi)\n",
    "plt.hist(mis, bins=20)\n",
    "plt.show()"
   ]
  },
  {
   "cell_type": "code",
   "execution_count": 156,
   "metadata": {},
   "outputs": [
    {
     "name": "stdout",
     "output_type": "stream",
     "text": [
      "0.6931471805599453 8.145241345053705\n"
     ]
    }
   ],
   "source": [
    "print(math.log(2.0), 5 * math.log(math.sqrt(26)))"
   ]
  },
  {
   "cell_type": "code",
   "execution_count": 142,
   "metadata": {},
   "outputs": [
    {
     "name": "stdout",
     "output_type": "stream",
     "text": [
      "-4.02182192822\n"
     ]
    }
   ],
   "source": [
    "# Compute the likelihood of a Gaussian\n",
    "mean = 0.0\n",
    "sigma = 3.0\n",
    "x_list = np.random.normal(scale=2.0, size=(1000,))\n",
    "values = -0.5 * np.log(2 * math.pi) - np.log(sigma) - (x_list - mean) / 2.0 / np.square(sigma)\n",
    "print(np.mean(values) * 2)"
   ]
  },
  {
   "cell_type": "code",
   "execution_count": 46,
   "metadata": {},
   "outputs": [
    {
     "name": "stdout",
     "output_type": "stream",
     "text": [
      "0.703195191369\n"
     ]
    }
   ],
   "source": []
  },
  {
   "cell_type": "code",
   "execution_count": null,
   "metadata": {
    "collapsed": true
   },
   "outputs": [],
   "source": []
  }
 ],
 "metadata": {
  "kernelspec": {
   "display_name": "Python 3",
   "language": "python",
   "name": "python3"
  },
  "language_info": {
   "codemirror_mode": {
    "name": "ipython",
    "version": 3
   },
   "file_extension": ".py",
   "mimetype": "text/x-python",
   "name": "python",
   "nbconvert_exporter": "python",
   "pygments_lexer": "ipython3",
   "version": "3.5.2"
  }
 },
 "nbformat": 4,
 "nbformat_minor": 2
}
